{
 "cells": [
  {
   "cell_type": "markdown",
   "id": "60e64dc8-cbac-4048-8a05-0e6e868d6854",
   "metadata": {},
   "source": [
    "### 🍄 Mushroom Classification Using Machine Learning\n",
    "\n",
    "#### 📌 Project Overview\n",
    "\n",
    "This project explores the classification of mushrooms as **edible** or **poisonous** using machine learning. The goal is to build accurate models that can predict mushroom safety based on various physical attributes.\n",
    "\n",
    "The dataset used contains **categorical features** describing cap shape, gill color, odor, stalk characteristics, and more — making it a great real-world example for applying classification algorithms.\n",
    "\n",
    "---\n",
    "\n",
    "#### 🧪 Dataset Details\n",
    "\n",
    "- **Source**: UCI Mushroom Dataset  \n",
    "- **Rows**: 8,124 mushroom samples  \n",
    "- **Columns**: 22 categorical features + 1 target label (`edible` or `poisonous`)  \n",
    "- **Target Variable**: `class` (e = edible, p = poisonous)\n",
    "\n",
    "Each mushroom is described by features like:\n",
    "\n",
    "- `odor`\n",
    "- `gill-color`\n",
    "- `stalk-shape`\n",
    "- `spore-print-color`\n",
    "- `veil-type`, etc.\n",
    "\n",
    "---\n",
    "\n",
    "#### 🧹 Preprocessing\n",
    "\n",
    "Since the dataset is entirely **categorical**, I applied **Label Encoding** to convert categories into numerical values:\n",
    "\n",
    "```python\n",
    "from sklearn.preprocessing import LabelEncoder\n",
    "\n",
    "label_encoders = {}\n",
    "for column in df.columns:\n",
    "    le = LabelEncoder()\n",
    "    df[column] = le.fit_transform(df[column])\n",
    "    label_encoders[column] = le"
   ]
  },
  {
   "cell_type": "markdown",
   "id": "2c6d51b0-ab97-4ccb-afde-08c286a773a3",
   "metadata": {},
   "source": [
    "#### MODELS TRAINED\n",
    " I experimented with multiple classification algorithms:\n",
    "\n",
    "**Logistic Regression,**\n",
    "**Random Forest Classifier,**\n",
    "**Support Vector Machine (SVM),**\n",
    "**K-Nearest Neighbors (KNN),**"
   ]
  },
  {
   "cell_type": "markdown",
   "id": "4f964102-935c-4042-853b-46f8fd8fd430",
   "metadata": {},
   "source": [
    "### 📈 Model Evaluation\n",
    "Each model was evaluated using:\n",
    "\n",
    "**Accuracy,**\n",
    "\n",
    "**Precision,**\n",
    "\n",
    "**Recall,**\n",
    "\n",
    "**F1 Score,**\n",
    "\n",
    "**ROC-AUC Curve,**\n",
    "\n",
    "**Cross-validation,**\n",
    "\n",
    "**Confusion Matrix,**"
   ]
  },
  {
   "cell_type": "markdown",
   "id": "03d29ff9-29c7-4bb7-be75-eb884c43240f",
   "metadata": {},
   "source": [
    "### ✅ Best Model: **Random Forest**\n",
    "Achieved perfect performance across all metrics, which reflects the dataset's strong predictive features — especially odor."
   ]
  },
  {
   "cell_type": "markdown",
   "id": "82e1dc91-73ae-481b-9b3c-10fcfa968d5c",
   "metadata": {},
   "source": [
    "### 📉 Feature Selection\n",
    "##### Using Recursive Feature Elimination (RFE) and feature importance from Random Forest, I identified the most impactful features:\n",
    "\n",
    "**odor**\n",
    "\n",
    "**spore-print-color**\n",
    "\n",
    "**gill-size**\n",
    "###### These features alone provided high classification accuracy, proving their significance."
   ]
  },
  {
   "cell_type": "markdown",
   "id": "d5d1ff3c-53eb-4d3f-9ade-87b08b973630",
   "metadata": {},
   "source": [
    "#### 📊 Visualization\n",
    "##### Histograms revealed clear trends in feature distributions, especially in odor, where some values are heavily associated with poisonous mushrooms. This supports our model's high performance.\n",
    "\n"
   ]
  },
  {
   "cell_type": "markdown",
   "id": "df594235-5db6-4096-bc69-ead1dcef9330",
   "metadata": {},
   "source": [
    "### 🤝 Credits\n",
    "**Dataset**: UCI Machine Learning Repository\n",
    "\n",
    "**Tools**: Python, pandas, scikit-learn, matplotlib, seaborn\n"
   ]
  },
  {
   "cell_type": "code",
   "execution_count": null,
   "id": "267115d9-c927-4643-a3d1-b8bc7c3fbb4c",
   "metadata": {},
   "outputs": [],
   "source": []
  }
 ],
 "metadata": {
  "kernelspec": {
   "display_name": "Python 3 (ipykernel)",
   "language": "python",
   "name": "python3"
  },
  "language_info": {
   "codemirror_mode": {
    "name": "ipython",
    "version": 3
   },
   "file_extension": ".py",
   "mimetype": "text/x-python",
   "name": "python",
   "nbconvert_exporter": "python",
   "pygments_lexer": "ipython3",
   "version": "3.12.7"
  }
 },
 "nbformat": 4,
 "nbformat_minor": 5
}
